{
 "cells": [
  {
   "cell_type": "code",
   "execution_count": 3,
   "metadata": {},
   "outputs": [
    {
     "output_type": "stream",
     "name": "stdout",
     "text": [
      "Collecting cvxpy\n",
      "  Downloading cvxpy-1.1.12-cp38-cp38-macosx_10_9_x86_64.whl (855 kB)\n",
      "\u001b[K     |████████████████████████████████| 855 kB 5.3 MB/s \n",
      "\u001b[?25hRequirement already satisfied: scipy>=1.1.0 in /Users/nadaaker/anaconda3/envs/MIE424/lib/python3.8/site-packages (from cvxpy) (1.5.2)\n",
      "Requirement already satisfied: numpy>=1.15 in /Users/nadaaker/anaconda3/envs/MIE424/lib/python3.8/site-packages (from cvxpy) (1.19.2)\n",
      "Collecting ecos>=2\n",
      "  Using cached ecos-2.0.7.post1-cp38-cp38-macosx_10_9_x86_64.whl\n",
      "Collecting osqp>=0.4.1\n",
      "  Using cached osqp-0.6.2.post0-cp38-cp38-macosx_10_9_x86_64.whl (164 kB)\n",
      "Collecting scs>=1.1.6\n",
      "  Using cached scs-2.1.2.tar.gz (3.5 MB)\n",
      "Collecting qdldl\n",
      "  Using cached qdldl-0.1.5.post0-cp38-cp38-macosx_10_9_x86_64.whl (87 kB)\n",
      "Building wheels for collected packages: scs\n",
      "  Building wheel for scs (setup.py) ... \u001b[?25ldone\n",
      "\u001b[?25h  Created wheel for scs: filename=scs-2.1.2-cp38-cp38-macosx_11_0_x86_64.whl size=118809 sha256=a82d5a70b560b99e4e75662abb59afaf4a273f44e6c0bc24e6d4c975e040fb87\n",
      "  Stored in directory: /Users/nadaaker/Library/Caches/pip/wheels/64/b7/4b/a5c555c1d94b8a25ac3f9da1bdd19ba9896f558d124de7d7ef\n",
      "Successfully built scs\n",
      "Installing collected packages: qdldl, scs, osqp, ecos, cvxpy\n",
      "Successfully installed cvxpy-1.1.12 ecos-2.0.7.post1 osqp-0.6.2.post0 qdldl-0.1.5.post0 scs-2.1.2\n"
     ]
    }
   ],
   "source": [
    "!pip install cvxpy\n",
    "from HelperFunctions import *\n",
    "import time\n",
    "import itertools\n",
    "import matplotlib \n"
   ]
  },
  {
   "cell_type": "code",
   "execution_count": 4,
   "metadata": {},
   "outputs": [],
   "source": [
    "def generate_sigma(p): # TODO: Needs to be finished in helper functions, for now pasted in here\n",
    "    ''' \n",
    "    Generates a list 'sigma' of length p, where sigma is the variance of each feature vector dimension i.e. x_i ~ N(0, sigma_p)\n",
    "\n",
    "    input: p (int) represents the number of features\n",
    "\n",
    "    returns: sigma (list of floats)\n",
    "        EXAMPLE:    \n",
    "            n = 100\n",
    "            p = 5 \n",
    "            grid_dim = 5 \n",
    "            sigma = [0.1, 0.2, 0.3, 0.4, 0.5]\n",
    "            noise = 0.25\n",
    "            degree = 3\n",
    "\n",
    "            X, C = generate_data(n, p, grid_dim, sigma, noise, degree)\n",
    "            A,b = CreateShortestPathConstraints(grid_dim)\n",
    "            B1 = DirectSolution(A, b, X, C)\n",
    "    ''' \n",
    "    #not done continue later\n",
    "    sigma = []\n",
    "    for i in range(p): \n",
    "        num = abs(np.random.normal())\n",
    "        sigma.append(num)\n",
    "\n",
    "    return sigma "
   ]
  },
  {
   "cell_type": "code",
   "execution_count": 5,
   "metadata": {},
   "outputs": [],
   "source": [
    "def problem_size_experiment(params, noise, degree):\n",
    "    \n",
    "    ''' \n",
    "    Runs the direct and SGD solvers with given input paraemters\n",
    "    \n",
    "    input: \n",
    "        dict{str:list} params: dictionary of parameter values to experiment with. Must specify 'n', 'p', and 'grid_size'\n",
    "        float noise: multiplicative noise term applied to cost vector, sampled from uniform distribution in [1-noise, 1+noise]\n",
    "        int degree: polynomial degree of generated cost vector. When degree=1, expected value of c is linear in x. Degree > 1 controls the amount of model misspecification.\n",
    "\n",
    "    returns: dict{str:list} with experimental results including: runtime, SPO loss, and SPO plus loss for both direct and SGD solvers\n",
    "    ''' \n",
    "    \n",
    "    # Variable definitions\n",
    "    experimental_results = {}\n",
    "    \n",
    "    direct_runtime = []\n",
    "    SGD_runtime = []\n",
    "    \n",
    "    SPO_loss_direct = []\n",
    "    SPO_loss_SGD = []\n",
    "    \n",
    "    SPO_plus_loss_direct= []\n",
    "    SPO_plus_loss_SGD = []\n",
    "    \n",
    "    # Record the values we're varying (will make plotting easier)\n",
    "    experimental_results['params'] = params\n",
    "    \n",
    "    # Define static sigma if not varying p\n",
    "    if len(params['p']) == 1:\n",
    "        sigma_const = generate_sigma(params['p'][0])\n",
    "    \n",
    "    # For each parameter combo solve the problem instance and record results\n",
    "    for n,p,grid_dim in itertools.product(params['n'], params['p'], params['grid_dim']):\n",
    "\n",
    "        # Use static sigma if not varying p in experiment \n",
    "        if len(params['p']) == 1:\n",
    "            sigma = sigma_const\n",
    "        else:   \n",
    "            sigma = generate_sigma(p)\n",
    "                    \n",
    "        # Generate the dataset\n",
    "        X, C = generate_data(n, p, grid_dim, sigma, noise, degree)\n",
    "        \n",
    "        # Create shortest path contraints\n",
    "        A,b = CreateShortestPathConstraints(grid_dim)\n",
    "        \n",
    "        # Run the direct solution and record the time\n",
    "        start_direct = time.time()\n",
    "        B_direct=DirectSolution(A,b, X, C)\n",
    "        end_direct = time.time() - start_direct\n",
    "        direct_runtime.append(end_direct)\n",
    "    \n",
    "        # Run the SGD solution and record the time\n",
    "        start_sgd = time.time()\n",
    "        B_SGD=GradientDescentSolution(A,b, X, C, batch_size=10,epsilon = 0.001) \n",
    "        end_sgd = time.time() - start_sgd\n",
    "        SGD_runtime.append(end_sgd)\n",
    "        \n",
    "        # Record losses\n",
    "        solver = ShortestPathSolver(A,b)\n",
    "        SPO_loss_direct.append(SPOLoss(solver, X, C, B_direct))\n",
    "        SPO_loss_SGD.append(SPOLoss(solver, X, C, B_SGD))\n",
    "        SPO_plus_loss_direct.append(SPOplusLoss(solver, X, C, B_direct))\n",
    "        SPO_plus_loss_SGD.append(SPOplusLoss(solver, X, C, B_SGD))\n",
    "\n",
    "    # Add lists to results dictionary\n",
    "    experimental_results['direct_runtime'] = direct_runtime\n",
    "    experimental_results['SGD_runtime'] = SGD_runtime\n",
    "    experimental_results['SPO_loss_direct'] = SPO_loss_direct\n",
    "    experimental_results['SPO_loss_SGD'] = SPO_loss_SGD\n",
    "    experimental_results['SPO_plus_loss_direct'] = SPO_plus_loss_direct\n",
    "    experimental_results['SPO_plus_loss_SGD'] = SPO_plus_loss_SGD\n",
    "\n",
    "    return experimental_results"
   ]
  },
  {
   "cell_type": "code",
   "execution_count": 6,
   "metadata": {},
   "outputs": [
    {
     "output_type": "error",
     "ename": "SolverError",
     "evalue": "The solver GLPK_MI is not installed.",
     "traceback": [
      "\u001b[0;31m---------------------------------------------------------------------------\u001b[0m",
      "\u001b[0;31mSolverError\u001b[0m                               Traceback (most recent call last)",
      "\u001b[0;32m<ipython-input-6-07ff46747c39>\u001b[0m in \u001b[0;36m<module>\u001b[0;34m\u001b[0m\n\u001b[1;32m      3\u001b[0m \u001b[0mdegree\u001b[0m \u001b[0;34m=\u001b[0m \u001b[0;36m3\u001b[0m\u001b[0;34m\u001b[0m\u001b[0;34m\u001b[0m\u001b[0m\n\u001b[1;32m      4\u001b[0m \u001b[0;34m\u001b[0m\u001b[0m\n\u001b[0;32m----> 5\u001b[0;31m \u001b[0mexperiment\u001b[0m \u001b[0;34m=\u001b[0m \u001b[0mproblem_size_experiment\u001b[0m\u001b[0;34m(\u001b[0m\u001b[0mparams\u001b[0m\u001b[0;34m,\u001b[0m \u001b[0mnoise\u001b[0m\u001b[0;34m,\u001b[0m \u001b[0mdegree\u001b[0m\u001b[0;34m)\u001b[0m\u001b[0;34m\u001b[0m\u001b[0;34m\u001b[0m\u001b[0m\n\u001b[0m\u001b[1;32m      6\u001b[0m \u001b[0mexperiment\u001b[0m\u001b[0;34m\u001b[0m\u001b[0;34m\u001b[0m\u001b[0m\n",
      "\u001b[0;32m<ipython-input-5-3aff6583b107>\u001b[0m in \u001b[0;36mproblem_size_experiment\u001b[0;34m(params, noise, degree)\u001b[0m\n\u001b[1;32m     48\u001b[0m         \u001b[0;31m# Run the direct solution and record the time\u001b[0m\u001b[0;34m\u001b[0m\u001b[0;34m\u001b[0m\u001b[0;34m\u001b[0m\u001b[0m\n\u001b[1;32m     49\u001b[0m         \u001b[0mstart_direct\u001b[0m \u001b[0;34m=\u001b[0m \u001b[0mtime\u001b[0m\u001b[0;34m.\u001b[0m\u001b[0mtime\u001b[0m\u001b[0;34m(\u001b[0m\u001b[0;34m)\u001b[0m\u001b[0;34m\u001b[0m\u001b[0;34m\u001b[0m\u001b[0m\n\u001b[0;32m---> 50\u001b[0;31m         \u001b[0mB_direct\u001b[0m\u001b[0;34m=\u001b[0m\u001b[0mDirectSolution\u001b[0m\u001b[0;34m(\u001b[0m\u001b[0mA\u001b[0m\u001b[0;34m,\u001b[0m\u001b[0mb\u001b[0m\u001b[0;34m,\u001b[0m \u001b[0mX\u001b[0m\u001b[0;34m,\u001b[0m \u001b[0mC\u001b[0m\u001b[0;34m)\u001b[0m\u001b[0;34m\u001b[0m\u001b[0;34m\u001b[0m\u001b[0m\n\u001b[0m\u001b[1;32m     51\u001b[0m         \u001b[0mend_direct\u001b[0m \u001b[0;34m=\u001b[0m \u001b[0mtime\u001b[0m\u001b[0;34m.\u001b[0m\u001b[0mtime\u001b[0m\u001b[0;34m(\u001b[0m\u001b[0;34m)\u001b[0m \u001b[0;34m-\u001b[0m \u001b[0mstart_direct\u001b[0m\u001b[0;34m\u001b[0m\u001b[0;34m\u001b[0m\u001b[0m\n\u001b[1;32m     52\u001b[0m         \u001b[0mdirect_runtime\u001b[0m\u001b[0;34m.\u001b[0m\u001b[0mappend\u001b[0m\u001b[0;34m(\u001b[0m\u001b[0mend_direct\u001b[0m\u001b[0;34m)\u001b[0m\u001b[0;34m\u001b[0m\u001b[0;34m\u001b[0m\u001b[0m\n",
      "\u001b[0;32m~/Desktop/Desktop-NadaMacBookPro/UofT/Winter Term'21/MIe424/project/smart_predict_optimize/HelperFunctions.py\u001b[0m in \u001b[0;36mDirectSolution\u001b[0;34m(A, b, X, C, reg_weight)\u001b[0m\n\u001b[1;32m    158\u001b[0m     \u001b[0;31m#solve every shortest path problem\u001b[0m\u001b[0;34m\u001b[0m\u001b[0;34m\u001b[0m\u001b[0;34m\u001b[0m\u001b[0m\n\u001b[1;32m    159\u001b[0m     \u001b[0msolver\u001b[0m \u001b[0;34m=\u001b[0m \u001b[0mShortestPathSolver\u001b[0m\u001b[0;34m(\u001b[0m\u001b[0mA\u001b[0m\u001b[0;34m,\u001b[0m \u001b[0mb\u001b[0m\u001b[0;34m)\u001b[0m\u001b[0;34m\u001b[0m\u001b[0;34m\u001b[0m\u001b[0m\n\u001b[0;32m--> 160\u001b[0;31m     \u001b[0mW\u001b[0m \u001b[0;34m=\u001b[0m \u001b[0mnp\u001b[0m\u001b[0;34m.\u001b[0m\u001b[0mapply_along_axis\u001b[0m\u001b[0;34m(\u001b[0m\u001b[0msolver\u001b[0m\u001b[0;34m.\u001b[0m\u001b[0msolve\u001b[0m\u001b[0;34m,\u001b[0m \u001b[0;36m1\u001b[0m\u001b[0;34m,\u001b[0m \u001b[0mC\u001b[0m\u001b[0;34m)\u001b[0m\u001b[0;31m#W has shape [num_samples, num_edges]\u001b[0m\u001b[0;34m\u001b[0m\u001b[0;34m\u001b[0m\u001b[0m\n\u001b[0m\u001b[1;32m    161\u001b[0m \u001b[0;34m\u001b[0m\u001b[0m\n\u001b[1;32m    162\u001b[0m     \u001b[0;31m#define linear program variables\u001b[0m\u001b[0;34m\u001b[0m\u001b[0;34m\u001b[0m\u001b[0;34m\u001b[0m\u001b[0m\n",
      "\u001b[0;32m<__array_function__ internals>\u001b[0m in \u001b[0;36mapply_along_axis\u001b[0;34m(*args, **kwargs)\u001b[0m\n",
      "\u001b[0;32m~/anaconda3/envs/MIE424/lib/python3.8/site-packages/numpy/lib/shape_base.py\u001b[0m in \u001b[0;36mapply_along_axis\u001b[0;34m(func1d, axis, arr, *args, **kwargs)\u001b[0m\n\u001b[1;32m    377\u001b[0m             \u001b[0;34m'Cannot apply_along_axis when any iteration dimensions are 0'\u001b[0m\u001b[0;34m\u001b[0m\u001b[0;34m\u001b[0m\u001b[0m\n\u001b[1;32m    378\u001b[0m         ) from None\n\u001b[0;32m--> 379\u001b[0;31m     \u001b[0mres\u001b[0m \u001b[0;34m=\u001b[0m \u001b[0masanyarray\u001b[0m\u001b[0;34m(\u001b[0m\u001b[0mfunc1d\u001b[0m\u001b[0;34m(\u001b[0m\u001b[0minarr_view\u001b[0m\u001b[0;34m[\u001b[0m\u001b[0mind0\u001b[0m\u001b[0;34m]\u001b[0m\u001b[0;34m,\u001b[0m \u001b[0;34m*\u001b[0m\u001b[0margs\u001b[0m\u001b[0;34m,\u001b[0m \u001b[0;34m**\u001b[0m\u001b[0mkwargs\u001b[0m\u001b[0;34m)\u001b[0m\u001b[0;34m)\u001b[0m\u001b[0;34m\u001b[0m\u001b[0;34m\u001b[0m\u001b[0m\n\u001b[0m\u001b[1;32m    380\u001b[0m \u001b[0;34m\u001b[0m\u001b[0m\n\u001b[1;32m    381\u001b[0m     \u001b[0;31m# build a buffer for storing evaluations of func1d.\u001b[0m\u001b[0;34m\u001b[0m\u001b[0;34m\u001b[0m\u001b[0;34m\u001b[0m\u001b[0m\n",
      "\u001b[0;32m~/Desktop/Desktop-NadaMacBookPro/UofT/Winter Term'21/MIe424/project/smart_predict_optimize/HelperFunctions.py\u001b[0m in \u001b[0;36msolve\u001b[0;34m(self, c, return_path)\u001b[0m\n\u001b[1;32m    112\u001b[0m         '''\n\u001b[1;32m    113\u001b[0m         \u001b[0mself\u001b[0m\u001b[0;34m.\u001b[0m\u001b[0mc\u001b[0m\u001b[0;34m.\u001b[0m\u001b[0mproject_and_assign\u001b[0m\u001b[0;34m(\u001b[0m\u001b[0mc\u001b[0m\u001b[0;34m)\u001b[0m\u001b[0;34m\u001b[0m\u001b[0;34m\u001b[0m\u001b[0m\n\u001b[0;32m--> 114\u001b[0;31m         \u001b[0mself\u001b[0m\u001b[0;34m.\u001b[0m\u001b[0mprob\u001b[0m\u001b[0;34m.\u001b[0m\u001b[0msolve\u001b[0m\u001b[0;34m(\u001b[0m\u001b[0msolver\u001b[0m \u001b[0;34m=\u001b[0m \u001b[0;34m'GLPK_MI'\u001b[0m\u001b[0;34m)\u001b[0m\u001b[0;34m\u001b[0m\u001b[0;34m\u001b[0m\u001b[0m\n\u001b[0m\u001b[1;32m    115\u001b[0m         \u001b[0;32mreturn\u001b[0m \u001b[0mself\u001b[0m\u001b[0;34m.\u001b[0m\u001b[0mw\u001b[0m\u001b[0;34m.\u001b[0m\u001b[0mvalue\u001b[0m\u001b[0;34m\u001b[0m\u001b[0;34m\u001b[0m\u001b[0m\n\u001b[1;32m    116\u001b[0m \u001b[0;34m\u001b[0m\u001b[0m\n",
      "\u001b[0;32m~/anaconda3/envs/MIE424/lib/python3.8/site-packages/cvxpy/problems/problem.py\u001b[0m in \u001b[0;36msolve\u001b[0;34m(self, *args, **kwargs)\u001b[0m\n\u001b[1;32m    457\u001b[0m         \u001b[0;32melse\u001b[0m\u001b[0;34m:\u001b[0m\u001b[0;34m\u001b[0m\u001b[0;34m\u001b[0m\u001b[0m\n\u001b[1;32m    458\u001b[0m             \u001b[0msolve_func\u001b[0m \u001b[0;34m=\u001b[0m \u001b[0mProblem\u001b[0m\u001b[0;34m.\u001b[0m\u001b[0m_solve\u001b[0m\u001b[0;34m\u001b[0m\u001b[0;34m\u001b[0m\u001b[0m\n\u001b[0;32m--> 459\u001b[0;31m         \u001b[0;32mreturn\u001b[0m \u001b[0msolve_func\u001b[0m\u001b[0;34m(\u001b[0m\u001b[0mself\u001b[0m\u001b[0;34m,\u001b[0m \u001b[0;34m*\u001b[0m\u001b[0margs\u001b[0m\u001b[0;34m,\u001b[0m \u001b[0;34m**\u001b[0m\u001b[0mkwargs\u001b[0m\u001b[0;34m)\u001b[0m\u001b[0;34m\u001b[0m\u001b[0;34m\u001b[0m\u001b[0m\n\u001b[0m\u001b[1;32m    460\u001b[0m \u001b[0;34m\u001b[0m\u001b[0m\n\u001b[1;32m    461\u001b[0m     \u001b[0;34m@\u001b[0m\u001b[0mclassmethod\u001b[0m\u001b[0;34m\u001b[0m\u001b[0;34m\u001b[0m\u001b[0m\n",
      "\u001b[0;32m~/anaconda3/envs/MIE424/lib/python3.8/site-packages/cvxpy/problems/problem.py\u001b[0m in \u001b[0;36m_solve\u001b[0;34m(self, solver, warm_start, verbose, gp, qcp, requires_grad, enforce_dpp, **kwargs)\u001b[0m\n\u001b[1;32m    936\u001b[0m                 \u001b[0;32mreturn\u001b[0m \u001b[0mself\u001b[0m\u001b[0;34m.\u001b[0m\u001b[0mvalue\u001b[0m\u001b[0;34m\u001b[0m\u001b[0;34m\u001b[0m\u001b[0m\n\u001b[1;32m    937\u001b[0m \u001b[0;34m\u001b[0m\u001b[0m\n\u001b[0;32m--> 938\u001b[0;31m         data, solving_chain, inverse_data = self.get_problem_data(\n\u001b[0m\u001b[1;32m    939\u001b[0m             solver, gp, enforce_dpp, verbose)\n\u001b[1;32m    940\u001b[0m \u001b[0;34m\u001b[0m\u001b[0m\n",
      "\u001b[0;32m~/anaconda3/envs/MIE424/lib/python3.8/site-packages/cvxpy/problems/problem.py\u001b[0m in \u001b[0;36mget_problem_data\u001b[0;34m(self, solver, gp, enforce_dpp, verbose)\u001b[0m\n\u001b[1;32m    563\u001b[0m         \u001b[0;32mif\u001b[0m \u001b[0mkey\u001b[0m \u001b[0;34m!=\u001b[0m \u001b[0mself\u001b[0m\u001b[0;34m.\u001b[0m\u001b[0m_cache\u001b[0m\u001b[0;34m.\u001b[0m\u001b[0mkey\u001b[0m\u001b[0;34m:\u001b[0m\u001b[0;34m\u001b[0m\u001b[0;34m\u001b[0m\u001b[0m\n\u001b[1;32m    564\u001b[0m             \u001b[0mself\u001b[0m\u001b[0;34m.\u001b[0m\u001b[0m_cache\u001b[0m\u001b[0;34m.\u001b[0m\u001b[0minvalidate\u001b[0m\u001b[0;34m(\u001b[0m\u001b[0;34m)\u001b[0m\u001b[0;34m\u001b[0m\u001b[0;34m\u001b[0m\u001b[0m\n\u001b[0;32m--> 565\u001b[0;31m             solving_chain = self._construct_chain(\n\u001b[0m\u001b[1;32m    566\u001b[0m                 solver=solver, gp=gp, enforce_dpp=enforce_dpp)\n\u001b[1;32m    567\u001b[0m             \u001b[0mself\u001b[0m\u001b[0;34m.\u001b[0m\u001b[0m_cache\u001b[0m\u001b[0;34m.\u001b[0m\u001b[0mkey\u001b[0m \u001b[0;34m=\u001b[0m \u001b[0mkey\u001b[0m\u001b[0;34m\u001b[0m\u001b[0;34m\u001b[0m\u001b[0m\n",
      "\u001b[0;32m~/anaconda3/envs/MIE424/lib/python3.8/site-packages/cvxpy/problems/problem.py\u001b[0m in \u001b[0;36m_construct_chain\u001b[0;34m(self, solver, gp, enforce_dpp)\u001b[0m\n\u001b[1;32m    787\u001b[0m         \u001b[0mA\u001b[0m \u001b[0msolving\u001b[0m \u001b[0mchain\u001b[0m\u001b[0;34m\u001b[0m\u001b[0;34m\u001b[0m\u001b[0m\n\u001b[1;32m    788\u001b[0m         \"\"\"\n\u001b[0;32m--> 789\u001b[0;31m         \u001b[0mcandidate_solvers\u001b[0m \u001b[0;34m=\u001b[0m \u001b[0mself\u001b[0m\u001b[0;34m.\u001b[0m\u001b[0m_find_candidate_solvers\u001b[0m\u001b[0;34m(\u001b[0m\u001b[0msolver\u001b[0m\u001b[0;34m=\u001b[0m\u001b[0msolver\u001b[0m\u001b[0;34m,\u001b[0m \u001b[0mgp\u001b[0m\u001b[0;34m=\u001b[0m\u001b[0mgp\u001b[0m\u001b[0;34m)\u001b[0m\u001b[0;34m\u001b[0m\u001b[0;34m\u001b[0m\u001b[0m\n\u001b[0m\u001b[1;32m    790\u001b[0m         \u001b[0mself\u001b[0m\u001b[0;34m.\u001b[0m\u001b[0m_sort_candidate_solvers\u001b[0m\u001b[0;34m(\u001b[0m\u001b[0mcandidate_solvers\u001b[0m\u001b[0;34m)\u001b[0m\u001b[0;34m\u001b[0m\u001b[0;34m\u001b[0m\u001b[0m\n\u001b[1;32m    791\u001b[0m         return construct_solving_chain(self, candidate_solvers, gp=gp,\n",
      "\u001b[0;32m~/anaconda3/envs/MIE424/lib/python3.8/site-packages/cvxpy/problems/problem.py\u001b[0m in \u001b[0;36m_find_candidate_solvers\u001b[0;34m(self, solver, gp)\u001b[0m\n\u001b[1;32m    672\u001b[0m         \u001b[0;32mif\u001b[0m \u001b[0msolver\u001b[0m \u001b[0;32mis\u001b[0m \u001b[0;32mnot\u001b[0m \u001b[0;32mNone\u001b[0m\u001b[0;34m:\u001b[0m\u001b[0;34m\u001b[0m\u001b[0;34m\u001b[0m\u001b[0m\n\u001b[1;32m    673\u001b[0m             \u001b[0;32mif\u001b[0m \u001b[0msolver\u001b[0m \u001b[0;32mnot\u001b[0m \u001b[0;32min\u001b[0m \u001b[0mslv_def\u001b[0m\u001b[0;34m.\u001b[0m\u001b[0mINSTALLED_SOLVERS\u001b[0m\u001b[0;34m:\u001b[0m\u001b[0;34m\u001b[0m\u001b[0;34m\u001b[0m\u001b[0m\n\u001b[0;32m--> 674\u001b[0;31m                 \u001b[0;32mraise\u001b[0m \u001b[0merror\u001b[0m\u001b[0;34m.\u001b[0m\u001b[0mSolverError\u001b[0m\u001b[0;34m(\u001b[0m\u001b[0;34m\"The solver %s is not installed.\"\u001b[0m \u001b[0;34m%\u001b[0m \u001b[0msolver\u001b[0m\u001b[0;34m)\u001b[0m\u001b[0;34m\u001b[0m\u001b[0;34m\u001b[0m\u001b[0m\n\u001b[0m\u001b[1;32m    675\u001b[0m             \u001b[0;32mif\u001b[0m \u001b[0msolver\u001b[0m \u001b[0;32min\u001b[0m \u001b[0mslv_def\u001b[0m\u001b[0;34m.\u001b[0m\u001b[0mCONIC_SOLVERS\u001b[0m\u001b[0;34m:\u001b[0m\u001b[0;34m\u001b[0m\u001b[0;34m\u001b[0m\u001b[0m\n\u001b[1;32m    676\u001b[0m                 \u001b[0mcandidates\u001b[0m\u001b[0;34m[\u001b[0m\u001b[0;34m'conic_solvers'\u001b[0m\u001b[0;34m]\u001b[0m \u001b[0;34m+=\u001b[0m \u001b[0;34m[\u001b[0m\u001b[0msolver\u001b[0m\u001b[0;34m]\u001b[0m\u001b[0;34m\u001b[0m\u001b[0;34m\u001b[0m\u001b[0m\n",
      "\u001b[0;31mSolverError\u001b[0m: The solver GLPK_MI is not installed."
     ]
    }
   ],
   "source": [
    "params = {\"n\": [10], \"p\": [1,5], \"grid_dim\": [5]}\n",
    "noise = 0.25\n",
    "degree = 3\n",
    "\n",
    "experiment = problem_size_experiment(params, noise, degree)\n",
    "experiment"
   ]
  },
  {
   "cell_type": "code",
   "execution_count": 43,
   "metadata": {},
   "outputs": [
    {
     "name": "stdout",
     "output_type": "stream",
     "text": [
      "Converged after 657 steps\n",
      "Converged after 1625 steps\n"
     ]
    },
    {
     "data": {
      "text/plain": [
       "{'params': {'n': [10, 100], 'p': [5], 'grid_dim': [5]},\n",
       " 'direct_runtime': [0.057869911193847656, 3.8285560607910156],\n",
       " 'SGD_runtime': [13.416093111038208, 32.62833595275879],\n",
       " 'SPO_loss_direct': [0.0, 4.09275298431221],\n",
       " 'SPO_loss_SGD': [0.8853072887576673, 5.035403172038496],\n",
       " 'SPO_plus_loss_direct': [5.684341886080802e-15, 16.612236910446413],\n",
       " 'SPO_plus_loss_SGD': [9.344590268864398, 21.203627828040684]}"
      ]
     },
     "execution_count": 43,
     "metadata": {},
     "output_type": "execute_result"
    }
   ],
   "source": [
    "params = {\"n\": [10,100], \"p\": [5], \"grid_dim\": [5]}\n",
    "noise = 0.25\n",
    "degree = 3\n",
    "\n",
    "experiment = problem_size_experiment(params, noise, degree)\n",
    "experiment"
   ]
  },
  {
   "cell_type": "code",
   "execution_count": 44,
   "metadata": {},
   "outputs": [
    {
     "name": "stdout",
     "output_type": "stream",
     "text": [
      "Converged after 159 steps\n",
      "Converged after 635 steps\n"
     ]
    },
    {
     "data": {
      "text/plain": [
       "{'params': {'n': [10], 'p': [5], 'grid_dim': [5, 10]},\n",
       " 'direct_runtime': [0.08979034423828125, 0.39901185035705566],\n",
       " 'SGD_runtime': [3.3987178802490234, 15.803815841674805],\n",
       " 'SPO_loss_direct': [0.0, 0.0],\n",
       " 'SPO_loss_SGD': [0.6520711862785447, 6.788852434139335],\n",
       " 'SPO_plus_loss_direct': [-8.526512829121202e-15, 3.694822225952521e-14],\n",
       " 'SPO_plus_loss_SGD': [6.818277755469735, 19.944584000638905]}"
      ]
     },
     "execution_count": 44,
     "metadata": {},
     "output_type": "execute_result"
    }
   ],
   "source": [
    "params = {\"n\": [10], \"p\": [5], \"grid_dim\": [5,10]}\n",
    "noise = 0.25\n",
    "degree = 3\n",
    "\n",
    "experiment = problem_size_experiment(params, noise, degree)\n",
    "experiment"
   ]
  },
  {
   "cell_type": "code",
   "execution_count": null,
   "metadata": {},
   "outputs": [],
   "source": [
    "\n",
    "#note for experiment generation: Generate data for different instances of n and p \n",
    "\n",
    "'''\n",
    "def plot():\n",
    "    ''' \n",
    "    input will be in the following format:\n",
    "\n",
    "    input = {\n",
    "        'params':  {'n':[10, 50], 'p': [5], 'grid_dim': [5]},\n",
    "        'direct_runtime': [0.084, 0.836],\n",
    "        'SGD_runtime': [0.326, 0.266],\n",
    "        'SPO_loss_SGD': [11.376, 14.916],\n",
    "        'SPO_plus_loss_direct': [2.8....., 29.5......],\n",
    "        'SPO_plus_loss_SGD': [42.379, 42.927]\n",
    "    } \n",
    "    '''\n",
    "    \n",
    "\n"
   ]
  }
 ],
 "metadata": {
  "kernelspec": {
   "display_name": "Python 3",
   "language": "python",
   "name": "python3"
  },
  "language_info": {
   "codemirror_mode": {
    "name": "ipython",
    "version": 3
   },
   "file_extension": ".py",
   "mimetype": "text/x-python",
   "name": "python",
   "nbconvert_exporter": "python",
   "pygments_lexer": "ipython3",
   "version": "3.8.5"
  }
 },
 "nbformat": 4,
 "nbformat_minor": 4
}