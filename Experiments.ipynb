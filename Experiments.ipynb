{
 "cells": [
  {
   "cell_type": "code",
   "execution_count": 39,
   "metadata": {},
   "outputs": [],
   "source": [
    "from HelperFunctions import *\n",
    "import time\n",
    "import itertools"
   ]
  },
  {
   "cell_type": "code",
   "execution_count": 40,
   "metadata": {},
   "outputs": [],
   "source": [
    "def generate_sigma(p): # TODO: Needs to be finished in helper functions, for now pasted in here\n",
    "    ''' \n",
    "    Generates a list 'sigma' of length p, where sigma is the variance of each feature vector dimension i.e. x_i ~ N(0, sigma_p)\n",
    "\n",
    "    input: p (int) represents the number of features\n",
    "\n",
    "    returns: sigma (list of floats)\n",
    "        EXAMPLE:    \n",
    "            n = 100\n",
    "            p = 5 \n",
    "            grid_dim = 5 \n",
    "            sigma = [0.1, 0.2, 0.3, 0.4, 0.5]\n",
    "            noise = 0.25\n",
    "            degree = 3\n",
    "\n",
    "            X, C = generate_data(n, p, grid_dim, sigma, noise, degree)\n",
    "            A,b = CreateShortestPathConstraints(grid_dim)\n",
    "            B1 = DirectSolution(A, b, X, C)\n",
    "    ''' \n",
    "    #not done continue later\n",
    "    sigma = []\n",
    "    for i in range(p): \n",
    "        num = abs(np.random.normal())\n",
    "        sigma.append(num)\n",
    "\n",
    "    return sigma "
   ]
  },
  {
   "cell_type": "code",
   "execution_count": 41,
   "metadata": {},
   "outputs": [],
   "source": [
    "def problem_size_experiment(params, noise, degree):\n",
    "    \n",
    "    ''' \n",
    "    Runs the direct and SGD solvers with given input paraemters\n",
    "    \n",
    "    input: \n",
    "        dict{str:list} params: dictionary of parameter values to experiment with. Must specify 'n', 'p', and 'grid_size'\n",
    "        float noise: multiplicative noise term applied to cost vector, sampled from uniform distribution in [1-noise, 1+noise]\n",
    "        int degree: polynomial degree of generated cost vector. When degree=1, expected value of c is linear in x. Degree > 1 controls the amount of model misspecification.\n",
    "\n",
    "    returns: dict{str:list} with experimental results including: runtime, SPO loss, and SPO plus loss for both direct and SGD solvers\n",
    "    ''' \n",
    "    \n",
    "    # Variable definitions\n",
    "    experimental_results = {}\n",
    "    \n",
    "    direct_runtime = []\n",
    "    SGD_runtime = []\n",
    "    \n",
    "    SPO_loss_direct = []\n",
    "    SPO_loss_SGD = []\n",
    "    \n",
    "    SPO_plus_loss_direct= []\n",
    "    SPO_plus_loss_SGD = []\n",
    "    \n",
    "    # Record the values we're varying (will make plotting easier)\n",
    "    experimental_results['params'] = params\n",
    "    \n",
    "    # Define static sigma if not varying p\n",
    "    if len(params['p']) == 1:\n",
    "        sigma_const = generate_sigma(params['p'][0])\n",
    "    \n",
    "    # For each parameter combo solve the problem instance and record results\n",
    "    for n,p,grid_dim in itertools.product(params['n'], params['p'], params['grid_dim']):\n",
    "\n",
    "        # Use static sigma if not varying p in experiment \n",
    "        if len(params['p']) == 1:\n",
    "            sigma = sigma_const\n",
    "        else:   \n",
    "            sigma = generate_sigma(p)\n",
    "                    \n",
    "        # Generate the dataset\n",
    "        X, C = generate_data(n, p, grid_dim, sigma, noise, degree)\n",
    "        \n",
    "        # Create shortest path contraints\n",
    "        A,b = CreateShortestPathConstraints(grid_dim)\n",
    "        \n",
    "        # Run the direct solution and record the time\n",
    "        start_direct = time.time()\n",
    "        B_direct=DirectSolution(A,b, X, C)\n",
    "        end_direct = time.time() - start_direct\n",
    "        direct_runtime.append(end_direct)\n",
    "    \n",
    "        # Run the SGD solution and record the time\n",
    "        start_sgd = time.time()\n",
    "        B_SGD=GradientDescentSolution(A,b, X, C, batch_size=10,epsilon = 0.001) \n",
    "        end_sgd = time.time() - start_sgd\n",
    "        SGD_runtime.append(end_sgd)\n",
    "        \n",
    "        # Record losses\n",
    "        solver = ShortestPathSolver(A,b)\n",
    "        SPO_loss_direct.append(SPOLoss(solver, X, C, B_direct))\n",
    "        SPO_loss_SGD.append(SPOLoss(solver, X, C, B_SGD))\n",
    "        SPO_plus_loss_direct.append(SPOplusLoss(solver, X, C, B_direct))\n",
    "        SPO_plus_loss_SGD.append(SPOplusLoss(solver, X, C, B_SGD))\n",
    "\n",
    "    # Add lists to results dictionary\n",
    "    experimental_results['direct_runtime'] = direct_runtime\n",
    "    experimental_results['SGD_runtime'] = SGD_runtime\n",
    "    experimental_results['SPO_loss_direct'] = SPO_loss_direct\n",
    "    experimental_results['SPO_loss_SGD'] = SPO_loss_SGD\n",
    "    experimental_results['SPO_plus_loss_direct'] = SPO_plus_loss_direct\n",
    "    experimental_results['SPO_plus_loss_SGD'] = SPO_plus_loss_SGD\n",
    "\n",
    "    return experimental_results"
   ]
  },
  {
   "cell_type": "code",
   "execution_count": 45,
   "metadata": {},
   "outputs": [
    {
     "name": "stdout",
     "output_type": "stream",
     "text": [
      "Converged after 1122 steps\n",
      "Converged after 138 steps\n"
     ]
    },
    {
     "data": {
      "text/plain": [
       "{'params': {'n': [10], 'p': [1, 5], 'grid_dim': [5]},\n",
       " 'direct_runtime': [0.06683588027954102, 0.04893207550048828],\n",
       " 'SGD_runtime': [21.965145111083984, 2.564466953277588],\n",
       " 'SPO_loss_direct': [10.38072666766127, 0.0],\n",
       " 'SPO_loss_SGD': [10.178097044490665, 0.8227327121033341],\n",
       " 'SPO_plus_loss_direct': [25.708982734850252, 1.3500311979441903e-14],\n",
       " 'SPO_plus_loss_SGD': [29.66968405712704, 3.7034035246452612]}"
      ]
     },
     "execution_count": 45,
     "metadata": {},
     "output_type": "execute_result"
    }
   ],
   "source": [
    "params = {\"n\": [10], \"p\": [1,5], \"grid_dim\": [5]}\n",
    "noise = 0.25\n",
    "degree = 3\n",
    "\n",
    "experiment = problem_size_experiment(params, noise, degree)\n",
    "experiment"
   ]
  },
  {
   "cell_type": "code",
   "execution_count": 43,
   "metadata": {},
   "outputs": [
    {
     "name": "stdout",
     "output_type": "stream",
     "text": [
      "Converged after 657 steps\n",
      "Converged after 1625 steps\n"
     ]
    },
    {
     "data": {
      "text/plain": [
       "{'params': {'n': [10, 100], 'p': [5], 'grid_dim': [5]},\n",
       " 'direct_runtime': [0.057869911193847656, 3.8285560607910156],\n",
       " 'SGD_runtime': [13.416093111038208, 32.62833595275879],\n",
       " 'SPO_loss_direct': [0.0, 4.09275298431221],\n",
       " 'SPO_loss_SGD': [0.8853072887576673, 5.035403172038496],\n",
       " 'SPO_plus_loss_direct': [5.684341886080802e-15, 16.612236910446413],\n",
       " 'SPO_plus_loss_SGD': [9.344590268864398, 21.203627828040684]}"
      ]
     },
     "execution_count": 43,
     "metadata": {},
     "output_type": "execute_result"
    }
   ],
   "source": [
    "params = {\"n\": [10,100], \"p\": [5], \"grid_dim\": [5]}\n",
    "noise = 0.25\n",
    "degree = 3\n",
    "\n",
    "experiment = problem_size_experiment(params, noise, degree)\n",
    "experiment"
   ]
  },
  {
   "cell_type": "code",
   "execution_count": 44,
   "metadata": {},
   "outputs": [
    {
     "name": "stdout",
     "output_type": "stream",
     "text": [
      "Converged after 159 steps\n",
      "Converged after 635 steps\n"
     ]
    },
    {
     "data": {
      "text/plain": [
       "{'params': {'n': [10], 'p': [5], 'grid_dim': [5, 10]},\n",
       " 'direct_runtime': [0.08979034423828125, 0.39901185035705566],\n",
       " 'SGD_runtime': [3.3987178802490234, 15.803815841674805],\n",
       " 'SPO_loss_direct': [0.0, 0.0],\n",
       " 'SPO_loss_SGD': [0.6520711862785447, 6.788852434139335],\n",
       " 'SPO_plus_loss_direct': [-8.526512829121202e-15, 3.694822225952521e-14],\n",
       " 'SPO_plus_loss_SGD': [6.818277755469735, 19.944584000638905]}"
      ]
     },
     "execution_count": 44,
     "metadata": {},
     "output_type": "execute_result"
    }
   ],
   "source": [
    "params = {\"n\": [10], \"p\": [5], \"grid_dim\": [5,10]}\n",
    "noise = 0.25\n",
    "degree = 3\n",
    "\n",
    "experiment = problem_size_experiment(params, noise, degree)\n",
    "experiment"
   ]
  },
  {
   "cell_type": "code",
   "execution_count": null,
   "metadata": {},
   "outputs": [],
   "source": []
  }
 ],
 "metadata": {
  "kernelspec": {
   "display_name": "Python 3",
   "language": "python",
   "name": "python3"
  },
  "language_info": {
   "codemirror_mode": {
    "name": "ipython",
    "version": 3
   },
   "file_extension": ".py",
   "mimetype": "text/x-python",
   "name": "python",
   "nbconvert_exporter": "python",
   "pygments_lexer": "ipython3",
   "version": "3.8.5"
  }
 },
 "nbformat": 4,
 "nbformat_minor": 4
}
