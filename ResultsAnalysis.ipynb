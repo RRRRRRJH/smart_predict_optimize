{
 "cells": [
  {
   "cell_type": "code",
   "execution_count": 129,
   "id": "statewide-debut",
   "metadata": {},
   "outputs": [],
   "source": [
    "from HelperFunctions import *\n",
    "import time\n",
    "import itertools\n",
    "import matplotlib.pyplot as plt\n",
    "import pandas as pd\n",
    "import pickle"
   ]
  },
  {
   "cell_type": "code",
   "execution_count": 130,
   "id": "driven-report",
   "metadata": {},
   "outputs": [],
   "source": [
    "results = pickle.load(open('SPOresultsFull.pkl','rb')).unstack().stack(0).droplevel(['p','grid_dim'])"
   ]
  },
  {
   "cell_type": "code",
   "execution_count": 131,
   "id": "trained-photography",
   "metadata": {},
   "outputs": [],
   "source": [
    "results['SPO diff'] = (results['SPO_loss_SGD'] - results['SPO_loss_direct'])/results['SPO_loss_direct']\n",
    "results['SPO+ diff'] = (results['SPO_plus_loss_SGD'] - results['SPO_plus_loss_direct'])/results['SPO_plus_loss_direct']"
   ]
  },
  {
   "cell_type": "code",
   "execution_count": 132,
   "id": "czech-determination",
   "metadata": {},
   "outputs": [],
   "source": [
    "lossdiffs = results[['SPO diff','SPO+ diff']]"
   ]
  },
  {
   "cell_type": "code",
   "execution_count": 133,
   "id": "reasonable-ballot",
   "metadata": {},
   "outputs": [],
   "source": [
    "lossmeans = lossdiffs.groupby('n').mean()\n",
    "lossSD = lossdiffs.groupby('n').std()\n",
    "lossLB = lossmeans - 1.96*lossSD/np.sqrt(30) #95% confidence interval for the mean\n",
    "lossUB = lossmeans + 1.96*lossSD/np.sqrt(30) #95% confidence interval for the mean"
   ]
  },
  {
   "cell_type": "code",
   "execution_count": 134,
   "id": "light-tattoo",
   "metadata": {},
   "outputs": [
    {
     "data": {
      "image/png": "[encoded data removed]",
      "text/plain": [
       "<Figure size 432x288 with 1 Axes>"
      ]
     },
     "metadata": {
      "needs_background": "light"
     },
     "output_type": "display_data"
    }
   ],
   "source": [
    "plt.plot(lossmeans.index,lossmeans['SPO diff'], label='SPO loss')\n",
    "plt.fill_between(lossmeans.index,lossLB['SPO diff'],lossUB['SPO diff'], alpha=0.5)\n",
    "\n",
    "plt.plot(lossmeans.index,lossmeans['SPO+ diff'], label='SPO+ loss')\n",
    "plt.fill_between(lossmeans.index,lossLB['SPO+ diff'],lossUB['SPO+ diff'], alpha=0.5)\n",
    "#plt.axhline(0, c='k')\n",
    "plt.ylim(0)\n",
    "plt.legend()\n",
    "plt.xlabel('Sample Size\\n(n)')\n",
    "plt.ylabel('Increase in loss\\n(%)')\n",
    "plt.title('Increase of loss of the SGD method over the LP method')\n",
    "plt.show()"
   ]
  },
  {
   "cell_type": "code",
   "execution_count": 135,
   "id": "basic-indonesia",
   "metadata": {},
   "outputs": [
    {
     "data": {
      "text/html": [
       "<div>\n",
       "<style scoped>\n",
       "    .dataframe tbody tr th:only-of-type {\n",
       "        vertical-align: middle;\n",
       "    }\n",
       "\n",
       "    .dataframe tbody tr th {\n",
       "        vertical-align: top;\n",
       "    }\n",
       "\n",
       "    .dataframe thead th {\n",
       "        text-align: right;\n",
       "    }\n",
       "</style>\n",
       "<table border=\"1\" class=\"dataframe\">\n",
       "  <thead>\n",
       "    <tr style=\"text-align: right;\">\n",
       "      <th>metric</th>\n",
       "      <th>SPO diff</th>\n",
       "      <th>SPO+ diff</th>\n",
       "    </tr>\n",
       "    <tr>\n",
       "      <th>n</th>\n",
       "      <th></th>\n",
       "      <th></th>\n",
       "    </tr>\n",
       "  </thead>\n",
       "  <tbody>\n",
       "    <tr>\n",
       "      <th>100</th>\n",
       "      <td>2</td>\n",
       "      <td>0</td>\n",
       "    </tr>\n",
       "    <tr>\n",
       "      <th>200</th>\n",
       "      <td>0</td>\n",
       "      <td>0</td>\n",
       "    </tr>\n",
       "    <tr>\n",
       "      <th>300</th>\n",
       "      <td>1</td>\n",
       "      <td>0</td>\n",
       "    </tr>\n",
       "    <tr>\n",
       "      <th>400</th>\n",
       "      <td>0</td>\n",
       "      <td>0</td>\n",
       "    </tr>\n",
       "    <tr>\n",
       "      <th>500</th>\n",
       "      <td>1</td>\n",
       "      <td>0</td>\n",
       "    </tr>\n",
       "    <tr>\n",
       "      <th>600</th>\n",
       "      <td>0</td>\n",
       "      <td>0</td>\n",
       "    </tr>\n",
       "    <tr>\n",
       "      <th>700</th>\n",
       "      <td>0</td>\n",
       "      <td>0</td>\n",
       "    </tr>\n",
       "    <tr>\n",
       "      <th>800</th>\n",
       "      <td>0</td>\n",
       "      <td>0</td>\n",
       "    </tr>\n",
       "    <tr>\n",
       "      <th>900</th>\n",
       "      <td>0</td>\n",
       "      <td>0</td>\n",
       "    </tr>\n",
       "    <tr>\n",
       "      <th>1000</th>\n",
       "      <td>0</td>\n",
       "      <td>0</td>\n",
       "    </tr>\n",
       "  </tbody>\n",
       "</table>\n",
       "</div>"
      ],
      "text/plain": [
       "metric  SPO diff  SPO+ diff\n",
       "n                          \n",
       "100            2          0\n",
       "200            0          0\n",
       "300            1          0\n",
       "400            0          0\n",
       "500            1          0\n",
       "600            0          0\n",
       "700            0          0\n",
       "800            0          0\n",
       "900            0          0\n",
       "1000           0          0"
      ]
     },
     "execution_count": 135,
     "metadata": {},
     "output_type": "execute_result"
    }
   ],
   "source": [
    "(lossdiffs<0).groupby('n').sum()"
   ]
  },
  {
   "cell_type": "code",
   "execution_count": null,
   "id": "annual-arena",
   "metadata": {},
   "outputs": [],
   "source": []
  },
  {
   "cell_type": "code",
   "execution_count": 136,
   "id": "south-housing",
   "metadata": {},
   "outputs": [],
   "source": [
    "runtimes = results[['direct_runtime','SGD_runtime']]"
   ]
  },
  {
   "cell_type": "code",
   "execution_count": 137,
   "id": "sexual-future",
   "metadata": {},
   "outputs": [],
   "source": [
    "runtimemeans = runtimes.groupby('n').mean()\n",
    "runtimeSD = runtimes.groupby('n').std()\n",
    "runtimeUB=runtimes.groupby('n').quantile(0.975)\n",
    "runtimeLB=runtimes.groupby('n').quantile(0.025)\n",
    "#runtimeLB = runtimemeans - 1.96*runtimeSD/np.sqrt(30) #95% confidence interval for the mean\n",
    "#runtimeUB = runtimemeans + 1.96*runtimeSD/np.sqrt(30) #95% confidence interval for the mean"
   ]
  },
  {
   "cell_type": "code",
   "execution_count": 138,
   "id": "contained-shannon",
   "metadata": {},
   "outputs": [
    {
     "data": {
      "image/png": "[encoded data removed]",
      "text/plain": [
       "<Figure size 432x288 with 1 Axes>"
      ]
     },
     "metadata": {
      "needs_background": "light"
     },
     "output_type": "display_data"
    }
   ],
   "source": [
    "plt.plot(runtimemeans.index,runtimemeans['direct_runtime'], label='LP Method')\n",
    "plt.fill_between(runtimemeans.index,runtimeLB['direct_runtime'],runtimeUB['direct_runtime'], alpha=0.5)\n",
    "\n",
    "plt.plot(runtimemeans.index,runtimemeans['SGD_runtime'], label='SGD Method')\n",
    "plt.fill_between(runtimemeans.index,runtimeLB['SGD_runtime'],runtimeUB['SGD_runtime'], alpha=0.5)\n",
    "#plt.axhline(0, c='k')\n",
    "plt.ylim(0)\n",
    "plt.legend()\n",
    "plt.xlabel('Sample Size\\n(n)')\n",
    "plt.ylabel('Runtime\\n(s)')\n",
    "plt.title('Runtime of LP and SGD methods for varying sample size')\n",
    "plt.show()"
   ]
  },
  {
   "cell_type": "code",
   "execution_count": 139,
   "id": "listed-workstation",
   "metadata": {},
   "outputs": [
    {
     "data": {
      "text/html": [
       "<div>\n",
       "<style scoped>\n",
       "    .dataframe tbody tr th:only-of-type {\n",
       "        vertical-align: middle;\n",
       "    }\n",
       "\n",
       "    .dataframe tbody tr th {\n",
       "        vertical-align: top;\n",
       "    }\n",
       "\n",
       "    .dataframe thead th {\n",
       "        text-align: right;\n",
       "    }\n",
       "</style>\n",
       "<table border=\"1\" class=\"dataframe\">\n",
       "  <thead>\n",
       "    <tr style=\"text-align: right;\">\n",
       "      <th>metric</th>\n",
       "      <th>direct_runtime</th>\n",
       "      <th>SGD_runtime</th>\n",
       "    </tr>\n",
       "    <tr>\n",
       "      <th>n</th>\n",
       "      <th></th>\n",
       "      <th></th>\n",
       "    </tr>\n",
       "  </thead>\n",
       "  <tbody>\n",
       "    <tr>\n",
       "      <th>100</th>\n",
       "      <td>4.615217</td>\n",
       "      <td>5.825824</td>\n",
       "    </tr>\n",
       "    <tr>\n",
       "      <th>200</th>\n",
       "      <td>3.023268</td>\n",
       "      <td>6.387562</td>\n",
       "    </tr>\n",
       "    <tr>\n",
       "      <th>300</th>\n",
       "      <td>5.127132</td>\n",
       "      <td>7.736858</td>\n",
       "    </tr>\n",
       "    <tr>\n",
       "      <th>400</th>\n",
       "      <td>8.963309</td>\n",
       "      <td>9.134901</td>\n",
       "    </tr>\n",
       "    <tr>\n",
       "      <th>500</th>\n",
       "      <td>12.556814</td>\n",
       "      <td>9.684961</td>\n",
       "    </tr>\n",
       "    <tr>\n",
       "      <th>600</th>\n",
       "      <td>15.507036</td>\n",
       "      <td>10.711860</td>\n",
       "    </tr>\n",
       "    <tr>\n",
       "      <th>700</th>\n",
       "      <td>18.417378</td>\n",
       "      <td>10.857947</td>\n",
       "    </tr>\n",
       "    <tr>\n",
       "      <th>800</th>\n",
       "      <td>21.356275</td>\n",
       "      <td>11.629443</td>\n",
       "    </tr>\n",
       "    <tr>\n",
       "      <th>900</th>\n",
       "      <td>25.609799</td>\n",
       "      <td>12.553735</td>\n",
       "    </tr>\n",
       "    <tr>\n",
       "      <th>1000</th>\n",
       "      <td>28.706630</td>\n",
       "      <td>13.100674</td>\n",
       "    </tr>\n",
       "  </tbody>\n",
       "</table>\n",
       "</div>"
      ],
      "text/plain": [
       "metric  direct_runtime  SGD_runtime\n",
       "n                                  \n",
       "100           4.615217     5.825824\n",
       "200           3.023268     6.387562\n",
       "300           5.127132     7.736858\n",
       "400           8.963309     9.134901\n",
       "500          12.556814     9.684961\n",
       "600          15.507036    10.711860\n",
       "700          18.417378    10.857947\n",
       "800          21.356275    11.629443\n",
       "900          25.609799    12.553735\n",
       "1000         28.706630    13.100674"
      ]
     },
     "execution_count": 139,
     "metadata": {},
     "output_type": "execute_result"
    }
   ],
   "source": [
    "runtimemeans"
   ]
  },
  {
   "cell_type": "code",
   "execution_count": null,
   "id": "identified-accounting",
   "metadata": {},
   "outputs": [],
   "source": []
  }
 ],
 "metadata": {
  "kernelspec": {
   "display_name": "Python 3",
   "language": "python",
   "name": "python3"
  },
  "language_info": {
   "codemirror_mode": {
    "name": "ipython",
    "version": 3
   },
   "file_extension": ".py",
   "mimetype": "text/x-python",
   "name": "python",
   "nbconvert_exporter": "python",
   "pygments_lexer": "ipython3",
   "version": "3.8.5"
  }
 },
 "nbformat": 4,
 "nbformat_minor": 5
}
