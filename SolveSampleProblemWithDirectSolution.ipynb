{
 "cells": [
  {
   "cell_type": "code",
   "execution_count": 1,
   "id": "peripheral-labor",
   "metadata": {},
   "outputs": [],
   "source": [
    "from HelperFunctions import *\n",
    "n = 100\n",
    "p = 5 \n",
    "grid_dim = 5 \n",
    "sigma = [0.1,0.2,0.3,0.4,0.5]\n",
    "noise = 0.25\n",
    "degree = 3\n",
    "\n"
   ]
  },
  {
   "cell_type": "code",
   "execution_count": 2,
   "id": "floral-elephant",
   "metadata": {},
   "outputs": [
    {
     "name": "stdout",
     "output_type": "stream",
     "text": [
      "Converged after 459 steps\n",
      "Direct Solution SPO loss: 13.871430856101725\n",
      "Stochastic Gradient Descent Solution SPO loss: 14.906785092900245\n",
      "Direct Solution SPO plus loss: 0.17925030750873674\n",
      "Stochastic Gradient Descent Solution SPO plus loss: 11.93852457030985\n"
     ]
    }
   ],
   "source": [
    "X, C = generate_data(n, p, grid_dim, sigma, noise, degree)\n",
    "A,b = CreateShortestPathConstraints(grid_dim)\n",
    "B_direct=DirectSolution(A,b, X, C)\n",
    "B_SGD=GradientDescentSolution(A,b, X, C, batch_size=10,epsilon = 0.001) \n",
    "\n",
    "solver = ShortestPathSolver(A,b)\n",
    "loss_direct = SPOLoss(solver, X, C, B_direct)\n",
    "loss_SGD = SPOLoss(solver, X, C, B_SGD)\n",
    "print(f\"Direct Solution SPO loss: {loss_direct}\")\n",
    "print(f\"Stochastic Gradient Descent Solution SPO loss: {loss_SGD}\")\n",
    "\n",
    "solver = ShortestPathSolver(A,b)\n",
    "loss_plus_direct = SPOplusLoss(solver, X, C, B_direct)\n",
    "loss_plus_SGD = SPOplusLoss(solver, X, C, B_SGD)\n",
    "print(f\"Direct Solution SPO plus loss: {loss_plus_direct}\")\n",
    "print(f\"Stochastic Gradient Descent Solution SPO plus loss: {loss_plus_SGD}\")"
   ]
  },
  {
   "cell_type": "code",
   "execution_count": null,
   "id": "accomplished-corner",
   "metadata": {},
   "outputs": [],
   "source": []
  }
 ],
 "metadata": {
  "kernelspec": {
   "display_name": "Python 3",
   "language": "python",
   "name": "python3"
  },
  "language_info": {
   "codemirror_mode": {
    "name": "ipython",
    "version": 3
   },
   "file_extension": ".py",
   "mimetype": "text/x-python",
   "name": "python",
   "nbconvert_exporter": "python",
   "pygments_lexer": "ipython3",
   "version": "3.8.5"
  }
 },
 "nbformat": 4,
 "nbformat_minor": 5
}
