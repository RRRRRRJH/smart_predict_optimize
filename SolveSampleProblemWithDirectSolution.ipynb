{
 "cells": [
  {
   "cell_type": "code",
   "execution_count": 15,
   "id": "peripheral-labor",
   "metadata": {},
   "outputs": [],
   "source": [
    "from HelperFunctions import *\n",
    "\n",
    "n = 100\n",
    "p = 5 \n",
    "grid_dim = 5 \n",
    "sigma = [0.1, 0.2, 0.3, 0.4, 0.5]\n",
    "noise = 0.25\n",
    "degree = 3\n",
    "\n",
    "X, C = generate_data(n, p, grid_dim, sigma, noise, degree)\n",
    "A,b = CreateShortestPathConstraints(grid_dim)\n",
    "B1 = DirectSolution(A, b, X, C)"
   ]
  },
  {
   "cell_type": "code",
   "execution_count": 16,
   "id": "loving-chosen",
   "metadata": {},
   "outputs": [
    {
     "name": "stdout",
     "output_type": "stream",
     "text": [
      "Regularization when 0: 367.3114998471621, 1:16.323596707734474, 10:1.2682058141764653e-08\n"
     ]
    }
   ],
   "source": [
    "B2 = DirectSolution(A, b, X, C,reg_weight=1)\n",
    "B3 = DirectSolution(A, b, X, C,reg_weight=10)\n",
    "print(f\"Regularization when 0: {np.linalg.norm(B1,'fro')}, 1:{np.linalg.norm(B2,'fro')}, 10:{np.linalg.norm(B3,'fro')}\")"
   ]
  },
  {
   "cell_type": "code",
   "execution_count": 1,
   "metadata": {},
   "outputs": [],
   "source": [
    "# Experiment Generation \n",
    "\n",
    "'''\n",
    "######## from data generation helper function #########\n",
    "    Generate data for nxn grid\n",
    "\n",
    "    Parameters:\n",
    "        int n: number of data points to generate\n",
    "        int p: number of features\n",
    "        int grid_dim: Dimension of square grid, determines size of cost vector\n",
    "        array sigma: array of length p, is the variance of each feature vector dimension, i.e. x_i ~ N(0, sigma_p)\n",
    "        float noise: multiplicative noise term applied to cost vector, sampled from uniform distribution in [1-noise, 1+noise]\n",
    "        int degree: polynomial degree of generated cost vector. When degree=1, expected value of c is linear in x. Degree > 1               controls the amount of model misspecification.\n",
    "\n",
    "    Returns:\n",
    "        np.array X: feature data of dimension [num_samples, p]\n",
    "        np.array C: cost data of dimension [num_samples, d]\n",
    "    '''\n",
    "'''\n",
    "Generate data for different instances of n and p \n",
    "\n",
    "'''\n",
    "def generate_sigma(p):\n",
    "    ''' \n",
    "    Generates a list 'sigma' of length p, where sigma is the variance of each feature vector dimension i.e. x_i ~ N(0, sigma_p)\n",
    "\n",
    "    input: p (int) represents the number of features\n",
    "\n",
    "    returns: sigma (list of floats)\n",
    "    ''' \n",
    "    sigma = []\n",
    "    for i in range(p): \n",
    "        num = np.random.normal()\n",
    "\n",
    "    return sigma \n",
    "n = 100\n",
    "p = 5 \n",
    "grid_dim = 5 \n",
    "sigma = [0.1, 0.2, 0.3, 0.4, 0.5]\n",
    "noise = 0.25\n",
    "degree = 3\n",
    "\n",
    "X, C = generate_data(n, p, grid_dim, sigma, noise, degree)\n",
    "A,b = CreateShortestPathConstraints(grid_dim)\n",
    "B1 = DirectSolution(A, b, X, C)\n",
    "\n"
   ]
  }
 ],
 "metadata": {
  "kernelspec": {
   "display_name": "Python 3",
   "language": "python",
   "name": "python3"
  },
  "language_info": {
   "codemirror_mode": {
    "name": "ipython",
    "version": 3
   },
   "file_extension": ".py",
   "mimetype": "text/x-python",
   "name": "python",
   "nbconvert_exporter": "python",
   "pygments_lexer": "ipython3",
   "version": "3.8.5-final"
  }
 },
 "nbformat": 4,
 "nbformat_minor": 5
}