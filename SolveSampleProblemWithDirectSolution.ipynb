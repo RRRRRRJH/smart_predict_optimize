{
 "cells": [
  {
   "cell_type": "code",
   "execution_count": 1,
   "id": "peripheral-labor",
   "metadata": {},
   "outputs": [],
   "source": [
    "from HelperFunctions import *\n",
    "n = 100\n",
    "p = 5 \n",
    "grid_dim = 5 \n",
    "sigma = [0.1,0.2,0.3,0.4,0.5]\n",
    "noise = 0.25\n",
    "degree = 3\n",
    "\n",
    "X, C = generate_data(n, p, grid_dim, sigma, noise, degree)\n",
    "A,b = CreateShortestPathConstraints(grid_dim)\n",
    "B=DirectSolution(A, b, X, C)"
   ]
  },
  {
   "cell_type": "code",
   "execution_count": null,
   "id": "pediatric-frederick",
   "metadata": {},
   "outputs": [],
   "source": []
  }
 ],
 "metadata": {
  "kernelspec": {
   "display_name": "Python 3",
   "language": "python",
   "name": "python3"
  },
  "language_info": {
   "codemirror_mode": {
    "name": "ipython",
    "version": 3
   },
   "file_extension": ".py",
   "mimetype": "text/x-python",
   "name": "python",
   "nbconvert_exporter": "python",
   "pygments_lexer": "ipython3",
   "version": "3.8.5"
  }
 },
 "nbformat": 4,
 "nbformat_minor": 5
}
