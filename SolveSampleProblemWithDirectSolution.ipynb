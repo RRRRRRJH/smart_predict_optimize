{
 "cells": [
  {
   "cell_type": "code",
   "execution_count": 15,
<<<<<<< HEAD
=======
   "id": "peripheral-labor",
>>>>>>> da42e2eaa57fc339540a0be82cccbe609aaa28f5
   "metadata": {},
   "outputs": [],
   "source": [
    "from HelperFunctions import *\n",
    "n = 100\n",
    "p = 5 \n",
    "grid_dim = 5 \n",
    "sigma = [0.1,0.2,0.3,0.4,0.5]\n",
    "noise = 0.25\n",
    "degree = 3\n",
    "\n",
    "X, C = generate_data(n, p, grid_dim, sigma, noise, degree)\n",
    "A,b = CreateShortestPathConstraints(grid_dim)\n",
    "B1=DirectSolution(A, b, X, C)"
   ]
  },
  {
   "cell_type": "code",
<<<<<<< HEAD
   "execution_count": 1,
   "metadata": {},
   "outputs": [
    {
     "output_type": "stream",
     "name": "stdout",
     "text": [
      "Converged after 321 steps\n"
     ]
    }
   ],
   "source": [
    "from HelperFunctions import *\n",
    "n = 100\n",
    "p = 5 \n",
    "grid_dim = 5 \n",
    "sigma = [0.1,0.2,0.3,0.4,0.5]\n",
    "noise = 0.25\n",
    "degree = 3\n",
    "\n",
    "X, C = generate_data(n, p, grid_dim, sigma, noise, degree)\n",
    "A,b = CreateShortestPathConstraints(grid_dim)\n",
    "grad_B = GradientDescentSolution(A, b, X, C)"
   ]
  },
  {
   "cell_type": "code",
   "execution_count": null,
=======
   "execution_count": 16,
   "id": "loving-chosen",
>>>>>>> da42e2eaa57fc339540a0be82cccbe609aaa28f5
   "metadata": {},
   "outputs": [
    {
     "name": "stdout",
     "output_type": "stream",
     "text": [
      "Regularization when 0: 367.3114998471621, 1:16.323596707734474, 10:1.2682058141764653e-08\n"
     ]
    }
   ],
   "source": [
    "B2=DirectSolution(A, b, X, C,reg_weight=1)\n",
    "B3=DirectSolution(A, b, X, C,reg_weight=10)\n",
    "print(f\"Regularization when 0: {np.linalg.norm(B1,'fro')}, 1:{np.linalg.norm(B2,'fro')}, 10:{np.linalg.norm(B3,'fro')}\")"
   ]
  }
 ],
 "metadata": {
  "kernelspec": {
   "display_name": "Python 3",
   "language": "python",
   "name": "python3"
  },
  "language_info": {
   "codemirror_mode": {
    "name": "ipython",
    "version": 3
   },
   "file_extension": ".py",
   "mimetype": "text/x-python",
   "name": "python",
   "nbconvert_exporter": "python",
   "pygments_lexer": "ipython3",
   "version": "3.7.3-final"
  }
 },
 "nbformat": 4,
 "nbformat_minor": 5
}